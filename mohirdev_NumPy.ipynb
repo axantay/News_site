{
  "cells": [
    {
      "cell_type": "markdown",
      "metadata": {
        "id": "view-in-github",
        "colab_type": "text"
      },
      "source": [
        "<a href=\"https://colab.research.google.com/github/axantay/News_site/blob/main/mohirdev_NumPy.ipynb\" target=\"_parent\"><img src=\"https://colab.research.google.com/assets/colab-badge.svg\" alt=\"Open In Colab\"/></a>"
      ]
    },
    {
      "cell_type": "markdown",
      "id": "bf79c78b",
      "metadata": {
        "id": "bf79c78b"
      },
      "source": [
        "# NumPy kutubxonasiga doir bilimlaringizni mustaxkamlash uchun mashqlar\n",
        "\n",
        "Hurmatli o'quvchi, bilimingizni yanada mustaxkamlashingiz va chuqurroq ko'nikmalarga ega bo'lishingiz uchun sizga topshiriqlar tayyorladik. Sizga yengillik yaratish maqsadida topshiriqni aynan qanday funksiyalar yordamida amalga oshirishingiz mumkin ekanini\n",
        " `💡Ishora` ko'rinishida yozdik!"
      ]
    },
    {
      "cell_type": "markdown",
      "id": "017db353",
      "metadata": {
        "id": "017db353"
      },
      "source": [
        "#### 1. NumPy kutubxonasini `np` nomi ostida yuklang va numpy kutubxonasini chop eting.\n",
        "\n",
        "versiya va konfiguratsiyani tekshiring.\n"
      ]
    },
    {
      "cell_type": "markdown",
      "source": [
        "`💡Ishora` import … as` and `np.__version__, np.show_config"
      ],
      "metadata": {
        "id": "e28779fe"
      },
      "id": "e28779fe"
    },
    {
      "cell_type": "code",
      "source": [
        "import numpy as np"
      ],
      "metadata": {
        "id": "_pCbn1ieI3u9"
      },
      "id": "_pCbn1ieI3u9",
      "execution_count": 2,
      "outputs": []
    },
    {
      "cell_type": "markdown",
      "id": "46950f4f",
      "metadata": {
        "id": "46950f4f"
      },
      "source": [
        "#### 2. Raqamli qiymatlar ro'yxatini bir o'lchovli NumPy massiviga aylantiring!"
      ]
    },
    {
      "cell_type": "markdown",
      "source": [
        "`💡Ishora` numpy.array"
      ],
      "metadata": {
        "id": "9b0e875f"
      },
      "id": "9b0e875f"
    },
    {
      "cell_type": "code",
      "source": [
        "np.array([1, 2, 3, 4])"
      ],
      "metadata": {
        "id": "dgnzjeT3JCi4",
        "outputId": "47ba2a21-c997-4229-d13f-87371d629ed2",
        "colab": {
          "base_uri": "https://localhost:8080/"
        }
      },
      "id": "dgnzjeT3JCi4",
      "execution_count": 3,
      "outputs": [
        {
          "output_type": "execute_result",
          "data": {
            "text/plain": [
              "array([1, 2, 3, 4])"
            ]
          },
          "metadata": {},
          "execution_count": 3
        }
      ]
    },
    {
      "cell_type": "markdown",
      "id": "e3c20b3d",
      "metadata": {
        "id": "e3c20b3d"
      },
      "source": [
        "#### 3. Qiymatlari noldan iborat bo'lgan to'qqiz o'lchovli massiv yarating.\n",
        "\n"
      ]
    },
    {
      "cell_type": "markdown",
      "source": [
        "`💡Ishora` np.zeros"
      ],
      "metadata": {
        "id": "96d0b63e"
      },
      "id": "96d0b63e"
    },
    {
      "cell_type": "code",
      "source": [
        "np.zeros(shape=(9, 3, 3))"
      ],
      "metadata": {
        "id": "20RQXi9ZcULN",
        "outputId": "5291420d-9813-4065-d6d6-02e276a5c7a0",
        "colab": {
          "base_uri": "https://localhost:8080/"
        }
      },
      "id": "20RQXi9ZcULN",
      "execution_count": 5,
      "outputs": [
        {
          "output_type": "execute_result",
          "data": {
            "text/plain": [
              "array([[[0., 0., 0.],\n",
              "        [0., 0., 0.],\n",
              "        [0., 0., 0.]],\n",
              "\n",
              "       [[0., 0., 0.],\n",
              "        [0., 0., 0.],\n",
              "        [0., 0., 0.]],\n",
              "\n",
              "       [[0., 0., 0.],\n",
              "        [0., 0., 0.],\n",
              "        [0., 0., 0.]],\n",
              "\n",
              "       [[0., 0., 0.],\n",
              "        [0., 0., 0.],\n",
              "        [0., 0., 0.]],\n",
              "\n",
              "       [[0., 0., 0.],\n",
              "        [0., 0., 0.],\n",
              "        [0., 0., 0.]],\n",
              "\n",
              "       [[0., 0., 0.],\n",
              "        [0., 0., 0.],\n",
              "        [0., 0., 0.]],\n",
              "\n",
              "       [[0., 0., 0.],\n",
              "        [0., 0., 0.],\n",
              "        [0., 0., 0.]],\n",
              "\n",
              "       [[0., 0., 0.],\n",
              "        [0., 0., 0.],\n",
              "        [0., 0., 0.]],\n",
              "\n",
              "       [[0., 0., 0.],\n",
              "        [0., 0., 0.],\n",
              "        [0., 0., 0.]]])"
            ]
          },
          "metadata": {},
          "execution_count": 5
        }
      ]
    },
    {
      "cell_type": "markdown",
      "id": "b15a879f",
      "metadata": {
        "id": "b15a879f"
      },
      "source": [
        "#### 4. Massiv yarating va uning xotira hajmini toping.\n",
        "\n"
      ]
    },
    {
      "cell_type": "markdown",
      "source": [
        "`💡Ishora` size, itemsize"
      ],
      "metadata": {
        "id": "32f9025c"
      },
      "id": "32f9025c"
    },
    {
      "cell_type": "code",
      "source": [
        "arr = np.array([1, 2, 3])\n",
        "arr.size\n",
        "arr.itemsize"
      ],
      "metadata": {
        "id": "MZxcJM_oJOTs",
        "outputId": "6c6d5f39-03fd-4b97-d8b0-b149df5f03df",
        "colab": {
          "base_uri": "https://localhost:8080/"
        }
      },
      "id": "MZxcJM_oJOTs",
      "execution_count": 8,
      "outputs": [
        {
          "output_type": "execute_result",
          "data": {
            "text/plain": [
              "8"
            ]
          },
          "metadata": {},
          "execution_count": 8
        }
      ]
    },
    {
      "cell_type": "markdown",
      "id": "0a708990",
      "metadata": {
        "id": "0a708990"
      },
      "source": [
        "#### 5. NumPy kutubxonasidagi add funksiyasi hujjatlarini buyruq satridan qanday olishi mumkin?\n"
      ]
    },
    {
      "cell_type": "markdown",
      "source": [
        "`💡Ishora` np.info"
      ],
      "metadata": {
        "id": "d254eea5"
      },
      "id": "d254eea5"
    },
    {
      "cell_type": "code",
      "source": [
        "np.info(np.add)"
      ],
      "metadata": {
        "id": "m7nA_vYsJVUi",
        "outputId": "dea7ea0e-60bd-49d5-90bb-80e7174e4cbc",
        "colab": {
          "base_uri": "https://localhost:8080/"
        }
      },
      "id": "m7nA_vYsJVUi",
      "execution_count": 9,
      "outputs": [
        {
          "output_type": "stream",
          "name": "stdout",
          "text": [
            "add(x1, x2, /, out=None, *, where=True, casting='same_kind', order='K', dtype=None, subok=True[, signature, extobj])\n",
            "\n",
            "Add arguments element-wise.\n",
            "\n",
            "Parameters\n",
            "----------\n",
            "x1, x2 : array_like\n",
            "    The arrays to be added.\n",
            "    If ``x1.shape != x2.shape``, they must be broadcastable to a common\n",
            "    shape (which becomes the shape of the output).\n",
            "out : ndarray, None, or tuple of ndarray and None, optional\n",
            "    A location into which the result is stored. If provided, it must have\n",
            "    a shape that the inputs broadcast to. If not provided or None,\n",
            "    a freshly-allocated array is returned. A tuple (possible only as a\n",
            "    keyword argument) must have length equal to the number of outputs.\n",
            "where : array_like, optional\n",
            "    This condition is broadcast over the input. At locations where the\n",
            "    condition is True, the `out` array will be set to the ufunc result.\n",
            "    Elsewhere, the `out` array will retain its original value.\n",
            "    Note that if an uninitialized `out` array is created via the default\n",
            "    ``out=None``, locations within it where the condition is False will\n",
            "    remain uninitialized.\n",
            "**kwargs\n",
            "    For other keyword-only arguments, see the\n",
            "    :ref:`ufunc docs <ufuncs.kwargs>`.\n",
            "\n",
            "Returns\n",
            "-------\n",
            "add : ndarray or scalar\n",
            "    The sum of `x1` and `x2`, element-wise.\n",
            "    This is a scalar if both `x1` and `x2` are scalars.\n",
            "\n",
            "Notes\n",
            "-----\n",
            "Equivalent to `x1` + `x2` in terms of array broadcasting.\n",
            "\n",
            "Examples\n",
            "--------\n",
            ">>> np.add(1.0, 4.0)\n",
            "5.0\n",
            ">>> x1 = np.arange(9.0).reshape((3, 3))\n",
            ">>> x2 = np.arange(3.0)\n",
            ">>> np.add(x1, x2)\n",
            "array([[  0.,   2.,   4.],\n",
            "       [  3.,   5.,   7.],\n",
            "       [  6.,   8.,  10.]])\n",
            "\n",
            "The ``+`` operator can be used as a shorthand for ``np.add`` on ndarrays.\n",
            "\n",
            ">>> x1 = np.arange(9.0).reshape((3, 3))\n",
            ">>> x2 = np.arange(3.0)\n",
            ">>> x1 + x2\n",
            "array([[ 0.,  2.,  4.],\n",
            "       [ 3.,  5.,  7.],\n",
            "       [ 6.,  8., 10.]])\n"
          ]
        }
      ]
    },
    {
      "cell_type": "markdown",
      "id": "0b16cd77",
      "metadata": {
        "id": "0b16cd77"
      },
      "source": [
        "#### 6. Shunday vekor yaratingki u o'n ikki o'lchamda va qiymatlari noldan iborat bo'lsin, lekin vektorning oltinchi qiymati 1 ga teng bo'lsin.\n",
        "\n"
      ]
    },
    {
      "cell_type": "markdown",
      "source": [
        "`💡Ishora` array[12]"
      ],
      "metadata": {
        "id": "05223560"
      },
      "id": "05223560"
    },
    {
      "cell_type": "code",
      "source": [
        "arr = np.zeros(12)\n",
        "arr[5] = 1\n",
        "print(arr)"
      ],
      "metadata": {
        "id": "UJfYDNQoJc7M",
        "outputId": "e8a5337b-473a-48e1-b7bd-5bb32f646f12",
        "colab": {
          "base_uri": "https://localhost:8080/"
        }
      },
      "id": "UJfYDNQoJc7M",
      "execution_count": 10,
      "outputs": [
        {
          "output_type": "stream",
          "name": "stdout",
          "text": [
            "[0. 0. 0. 0. 0. 1. 0. 0. 0. 0. 0. 0.]\n"
          ]
        }
      ]
    },
    {
      "cell_type": "markdown",
      "id": "782d4c77",
      "metadata": {
        "id": "782d4c77"
      },
      "source": [
        "#### 7. Qiymatlari 20 dan 59 gacha bo'lgan vektor yarating.\n",
        "\n"
      ]
    },
    {
      "cell_type": "markdown",
      "source": [
        "`💡Ishora` arange"
      ],
      "metadata": {
        "id": "7250d114"
      },
      "id": "7250d114"
    },
    {
      "cell_type": "code",
      "source": [
        "arr = np.arange(20, 59)\n",
        "print(arr)"
      ],
      "metadata": {
        "id": "fSaWkGakJhwz",
        "outputId": "c66d2c39-6289-45ab-a6fe-48fd31673cde",
        "colab": {
          "base_uri": "https://localhost:8080/"
        }
      },
      "id": "fSaWkGakJhwz",
      "execution_count": 11,
      "outputs": [
        {
          "output_type": "stream",
          "name": "stdout",
          "text": [
            "[20 21 22 23 24 25 26 27 28 29 30 31 32 33 34 35 36 37 38 39 40 41 42 43\n",
            " 44 45 46 47 48 49 50 51 52 53 54 55 56 57 58]\n"
          ]
        }
      ]
    },
    {
      "cell_type": "markdown",
      "id": "48d48f01",
      "metadata": {
        "id": "48d48f01"
      },
      "source": [
        "#### 8. Vektor yarating va uni teskari o'zgartiring\n",
        "(birinchi element oxirgisi bo'lsin)\n",
        "\n"
      ]
    },
    {
      "cell_type": "markdown",
      "source": [
        "`💡Ishora` array[::-1]"
      ],
      "metadata": {
        "id": "fb702ae0"
      },
      "id": "fb702ae0"
    },
    {
      "cell_type": "code",
      "source": [
        "arr = np.array([1, 2, 3, 4, 5])\n",
        "print(arr)\n",
        "arr1 = arr[::-1]\n",
        "print(arr1)"
      ],
      "metadata": {
        "id": "GCP6vp_WJrON",
        "outputId": "f6965b81-d830-47ce-b05b-5a771841ee75",
        "colab": {
          "base_uri": "https://localhost:8080/"
        }
      },
      "id": "GCP6vp_WJrON",
      "execution_count": 12,
      "outputs": [
        {
          "output_type": "stream",
          "name": "stdout",
          "text": [
            "[1 2 3 4 5]\n",
            "[5 4 3 2 1]\n"
          ]
        }
      ]
    },
    {
      "cell_type": "markdown",
      "id": "4fa39382",
      "metadata": {
        "id": "4fa39382"
      },
      "source": [
        "#### 9. 12 dan 20 gacha bo'lgan qiymatlarga ega 3x3 matritsa yarating.\n"
      ]
    },
    {
      "cell_type": "markdown",
      "source": [
        "`💡Ishora` reshape"
      ],
      "metadata": {
        "id": "97e6be92"
      },
      "id": "97e6be92"
    },
    {
      "cell_type": "code",
      "source": [
        "np.arange(12, 21).reshape(3, 3)"
      ],
      "metadata": {
        "id": "Ve7gEGjuJxxw",
        "outputId": "19b3e79e-e57a-4760-c71a-ada76ee4c588",
        "colab": {
          "base_uri": "https://localhost:8080/"
        }
      },
      "id": "Ve7gEGjuJxxw",
      "execution_count": 13,
      "outputs": [
        {
          "output_type": "execute_result",
          "data": {
            "text/plain": [
              "array([[12, 13, 14],\n",
              "       [15, 16, 17],\n",
              "       [18, 19, 20]])"
            ]
          },
          "metadata": {},
          "execution_count": 13
        }
      ]
    },
    {
      "cell_type": "markdown",
      "id": "da64551a",
      "metadata": {
        "id": "da64551a"
      },
      "source": [
        "#### 10. Quyidagi matritsadan foydalanib nolga teng bo'lmagan elementlarning indekslarini toping.\n",
        "[3, 7, 0, 0, 9, 0]\n",
        "\n",
        "\n",
        "\n"
      ]
    },
    {
      "cell_type": "markdown",
      "source": [
        "`💡Ishora` np.nonzero"
      ],
      "metadata": {
        "id": "322b2b68"
      },
      "id": "322b2b68"
    },
    {
      "cell_type": "code",
      "source": [
        "arr = np.array([3, 7, 0, 0, 9, 0])\n",
        "arr1 = np.nonzero(arr)\n",
        "print(arr1)"
      ],
      "metadata": {
        "id": "fNIuSyBaJ4OP",
        "outputId": "479e35a8-9f96-4cb6-c572-8502c62a7bc7",
        "colab": {
          "base_uri": "https://localhost:8080/"
        }
      },
      "id": "fNIuSyBaJ4OP",
      "execution_count": 14,
      "outputs": [
        {
          "output_type": "stream",
          "name": "stdout",
          "text": [
            "(array([0, 1, 4]),)\n"
          ]
        }
      ]
    },
    {
      "cell_type": "markdown",
      "id": "f89d9c9e",
      "metadata": {
        "id": "f89d9c9e"
      },
      "source": [
        "#### 11. Tasodifiy qiymatlar bilan 2x2x2 o'lchovidagi massiv yarating.\n"
      ]
    },
    {
      "cell_type": "markdown",
      "source": [
        "`💡Ishora` np.random.random"
      ],
      "metadata": {
        "id": "5717e1c1"
      },
      "id": "5717e1c1"
    },
    {
      "cell_type": "code",
      "source": [
        "arr = np.random.randn(2, 2, 2)\n",
        "print(arr)"
      ],
      "metadata": {
        "id": "bHloeqHOKuiX",
        "outputId": "440098ad-d075-4a20-d2a8-55c76ce8c187",
        "colab": {
          "base_uri": "https://localhost:8080/"
        }
      },
      "id": "bHloeqHOKuiX",
      "execution_count": 23,
      "outputs": [
        {
          "output_type": "stream",
          "name": "stdout",
          "text": [
            "[[[-2.66696291 -0.57174662]\n",
            "  [ 0.97510406  1.36839728]]\n",
            "\n",
            " [[ 1.46618369  1.58862009]\n",
            "  [ 2.24554059  0.06083143]]]\n"
          ]
        }
      ]
    },
    {
      "cell_type": "markdown",
      "id": "13c5928c",
      "metadata": {
        "id": "13c5928c"
      },
      "source": [
        "#### 12. Tasodifiy sonlardan tashkil topgan 9X9 o'lchamidagi massiv yarating. So'ng uning eng katta va eng kichik qiymatlarini toping\n"
      ]
    },
    {
      "cell_type": "markdown",
      "source": [
        "`💡Ishora` min, max"
      ],
      "metadata": {
        "id": "0ede4d26"
      },
      "id": "0ede4d26"
    },
    {
      "cell_type": "code",
      "source": [
        "arr = np.random.randn(9, 9)\n",
        "print(arr)\n",
        "print(arr.max())\n",
        "print(arr.min())"
      ],
      "metadata": {
        "id": "OJiVa5K9LJyb",
        "outputId": "aed35db1-c4cf-456a-d888-d91c5aeb4122",
        "colab": {
          "base_uri": "https://localhost:8080/"
        }
      },
      "id": "OJiVa5K9LJyb",
      "execution_count": 24,
      "outputs": [
        {
          "output_type": "stream",
          "name": "stdout",
          "text": [
            "[[ 0.34787114  0.30225707  0.23977117  1.68867645  0.47187855  0.17862718\n",
            "  -0.05827579 -1.10383551 -0.40613497]\n",
            " [-0.42587818 -0.79517281 -2.46671504 -1.40972508  0.32230464 -0.1608896\n",
            "  -0.47470575 -0.90998136  0.58969753]\n",
            " [-0.74497426  0.35377984  1.36395364 -0.43753352 -1.03219596  1.0583443\n",
            "  -0.71713266 -1.38260597  0.41933092]\n",
            " [-0.99561953  2.28352497 -0.9749142  -0.61698296 -0.3869607  -0.64780368\n",
            "   0.29521253 -0.16418721 -0.03548889]\n",
            " [-0.24447478  1.17827943  0.10223121  0.86682114 -1.08718525  0.57717717\n",
            "  -0.05086329  0.72844915  0.18518434]\n",
            " [-0.44150687  1.07632951  0.81132875 -0.57320008  0.59425102 -0.17212642\n",
            "  -0.38381507 -0.64672422  0.15167319]\n",
            " [ 0.95926295  1.70129743  1.69303186  0.18881652  0.58813864  0.35205013\n",
            "  -0.34715279 -1.74895851 -1.43198345]\n",
            " [ 1.09274677  0.29534128  0.58473798  0.12027429  0.299083    0.09158458\n",
            "  -1.18454109 -0.77739799  1.0799885 ]\n",
            " [ 1.66841758 -0.95918725  0.4135443  -1.13950677  0.84374212 -0.81498131\n",
            "  -1.70351595 -0.05802769  1.43266721]]\n",
            "2.283524974613608\n",
            "-2.466715035083381\n"
          ]
        }
      ]
    },
    {
      "cell_type": "markdown",
      "id": "3fa2e461",
      "metadata": {
        "id": "3fa2e461"
      },
      "source": [
        "#### 13. Quyidagi misol qanday natija beradi?\n",
        "\n",
        "\n",
        "```python\n",
        "0 * np.nan\n",
        "np.nan == np.nan\n",
        "np.inf > np.nan\n",
        "np.nan - np.nan\n",
        "np.nan in set([np.nan])\n",
        "0.7 == 7 * 0.1\n",
        "```\n"
      ]
    },
    {
      "cell_type": "markdown",
      "source": [
        "`💡Ishora` NaN = not a number, inf = infinity"
      ],
      "metadata": {
        "id": "c0048e59"
      },
      "id": "c0048e59"
    },
    {
      "cell_type": "code",
      "source": [
        "arr = np.isnan(0 * np.nan)\n",
        "print(arr)\n",
        "arr1 = np.isnan(np.nan == np.nan)\n",
        "print(arr1)\n",
        "arr2 = np.isnan(np.inf > np.nan)\n",
        "print(arr2)\n",
        "arr3 = np.isnan(np.nan - np.nan)\n",
        "print(arr3)\n",
        "arr4 = np.isnan(np.nan in set([np.nan]))\n",
        "print(arr4)\n",
        "arr5 = np.isnan(0.7 == 7 * 0.1)"
      ],
      "metadata": {
        "id": "Thbqd_RCLf_e",
        "outputId": "b6703c0d-4af8-4135-f5ed-7da2385d3e52",
        "colab": {
          "base_uri": "https://localhost:8080/"
        }
      },
      "id": "Thbqd_RCLf_e",
      "execution_count": 39,
      "outputs": [
        {
          "output_type": "stream",
          "name": "stdout",
          "text": [
            "True\n",
            "False\n",
            "False\n",
            "True\n",
            "False\n"
          ]
        }
      ]
    },
    {
      "cell_type": "markdown",
      "id": "73f7a549",
      "metadata": {
        "id": "73f7a549"
      },
      "source": [
        "#### 14. O'lchamlari 6x3 va 3x4 bo'lgan martitsa yarating, so'ng ularning  ko'paytmasini hisoblang.\n",
        "\n"
      ]
    },
    {
      "cell_type": "markdown",
      "source": [
        "`💡Ishora` np.dot` or `np.ones"
      ],
      "metadata": {
        "id": "351ff928"
      },
      "id": "351ff928"
    },
    {
      "cell_type": "code",
      "source": [
        "arr1 = np.random.rand(6 ,3)\n",
        "arr2 = np.random.rand(3, 4)\n",
        "\n",
        "multply = np.dot(arr1, arr2)\n",
        "print(multply)"
      ],
      "metadata": {
        "id": "e_5QUFcPLtVX",
        "outputId": "88cf0471-8fe4-48f2-fa2e-14d117c8216f",
        "colab": {
          "base_uri": "https://localhost:8080/"
        }
      },
      "id": "e_5QUFcPLtVX",
      "execution_count": 40,
      "outputs": [
        {
          "output_type": "stream",
          "name": "stdout",
          "text": [
            "[[0.8263965  0.96760254 0.68721363 0.84494132]\n",
            " [0.20067125 0.15928628 0.11247362 0.11196752]\n",
            " [0.68196549 0.81405131 0.59177089 0.69709113]\n",
            " [1.40223809 1.3047357  1.03714188 0.85575462]\n",
            " [0.65323916 0.82861173 0.64852123 0.66108217]\n",
            " [0.89900873 1.03789845 0.7842488  0.83326167]]\n"
          ]
        }
      ]
    },
    {
      "cell_type": "markdown",
      "id": "6d0c506f",
      "metadata": {
        "id": "6d0c506f"
      },
      "source": [
        "#### 15. Quyidagi misol qanday natija beradi?\n",
        "\n",
        "```python\n",
        "print(sum(range(5),-1))\n",
        "from numpy import *\n",
        "print(sum(range(5),-1))\n",
        "```"
      ]
    },
    {
      "cell_type": "code",
      "execution_count": 42,
      "id": "c1cc1143",
      "metadata": {
        "id": "c1cc1143",
        "outputId": "980575b0-759a-4b95-a9c5-21a20b71e90b",
        "colab": {
          "base_uri": "https://localhost:8080/"
        }
      },
      "outputs": [
        {
          "output_type": "stream",
          "name": "stdout",
          "text": [
            "9\n",
            "10\n"
          ]
        }
      ],
      "source": [
        "print(sum(range(5), -1))\n",
        "\n",
        "from numpy import *\n",
        "print(sum(range(5),-1))\n",
        "\n"
      ]
    },
    {
      "cell_type": "markdown",
      "id": "d6ad1a9f",
      "metadata": {
        "id": "d6ad1a9f"
      },
      "source": [
        "#### 16. NumPy kutubxonasi yordamida ikkita massivni solishtiring va ular usida quyidagi amallarni bajaring.\n",
        "\n",
        "```python\n",
        "Array a: [1 2]\n",
        "Array b: [4 5]\n",
        "a > b\n",
        "[False False]\n",
        "a >= b\n",
        "[False False]\n",
        "a < b\n",
        "[ True True]\n",
        "a <= b\n",
        "[ True True]\n",
        "```"
      ]
    },
    {
      "cell_type": "code",
      "execution_count": 43,
      "id": "7ba3c441",
      "metadata": {
        "id": "7ba3c441",
        "outputId": "c5c2fe6b-792d-44c6-f7a3-43e52921e045",
        "colab": {
          "base_uri": "https://localhost:8080/"
        }
      },
      "outputs": [
        {
          "output_type": "execute_result",
          "data": {
            "text/plain": [
              "array([ True,  True])"
            ]
          },
          "metadata": {},
          "execution_count": 43
        }
      ],
      "source": [
        "arr = np.array([1, 2])\n",
        "arr1 = np.array([4, 5])\n",
        "\n",
        "arr > arr1\n",
        "\n",
        "arr >= arr1\n",
        "\n",
        "arr < arr1\n",
        "\n",
        "arr <= arr1"
      ]
    },
    {
      "cell_type": "markdown",
      "id": "e3a7ba7f",
      "metadata": {
        "id": "e3a7ba7f"
      },
      "source": [
        "#### 17. Quyidagi misol qanday natija beradi?\n",
        "\n",
        "```python\n",
        "np.array(0) / np.array(0)\n",
        "np.array(0) // np.array(0)\n",
        "np.array([np.nan]).astype(int).astype(float)\n",
        "```"
      ]
    },
    {
      "cell_type": "code",
      "execution_count": 44,
      "id": "b874734e",
      "metadata": {
        "id": "b874734e",
        "outputId": "e3e888e7-a811-4b3c-be76-25dd6fe0a9b5",
        "colab": {
          "base_uri": "https://localhost:8080/"
        }
      },
      "outputs": [
        {
          "output_type": "stream",
          "name": "stdout",
          "text": [
            "nan\n",
            "0\n",
            "[-9.22337204e+18]\n"
          ]
        },
        {
          "output_type": "stream",
          "name": "stderr",
          "text": [
            "<ipython-input-44-8d421f122a86>:1: RuntimeWarning: invalid value encountered in divide\n",
            "  arr = np.array(0) / np.array(0)\n",
            "<ipython-input-44-8d421f122a86>:3: RuntimeWarning: divide by zero encountered in floor_divide\n",
            "  arr2 = np.array(0) // np.array(0)\n",
            "<ipython-input-44-8d421f122a86>:5: RuntimeWarning: invalid value encountered in cast\n",
            "  arr3 = np.array([np.nan]).astype(int).astype(float)\n"
          ]
        }
      ],
      "source": [
        "arr = np.array(0) / np.array(0)\n",
        "print(arr)\n",
        "arr2 = np.array(0) // np.array(0)\n",
        "print(arr2)\n",
        "arr3 = np.array([np.nan]).astype(int).astype(float)\n",
        "print(arr3)"
      ]
    },
    {
      "cell_type": "markdown",
      "id": "6d17ab5d",
      "metadata": {
        "id": "6d17ab5d"
      },
      "source": [
        "#### 18. Ikkita massiv yarating va ular orasidagi umumiy qiymatlarni toping\n"
      ]
    },
    {
      "cell_type": "markdown",
      "source": [
        "`💡Ishora` np.intersect1d"
      ],
      "metadata": {
        "id": "4c4e2c5e"
      },
      "id": "4c4e2c5e"
    },
    {
      "cell_type": "code",
      "source": [
        "arr = np.array([1, 2, 3, 4])\n",
        "arr1 = np.array([5, 6, 7, 8])\n",
        "\n",
        "result = np.intersect1d(arr, arr1)\n",
        "print(result)"
      ],
      "metadata": {
        "id": "Dxz5P8WpMeAP",
        "outputId": "7d994e58-4225-4984-a746-c57a1d5c619b",
        "colab": {
          "base_uri": "https://localhost:8080/"
        }
      },
      "id": "Dxz5P8WpMeAP",
      "execution_count": 45,
      "outputs": [
        {
          "output_type": "stream",
          "name": "stdout",
          "text": [
            "[]\n"
          ]
        }
      ]
    },
    {
      "cell_type": "markdown",
      "id": "8837119b",
      "metadata": {
        "id": "8837119b"
      },
      "source": [
        "#### 19. Tasodifiy sonlardan iborat bo'lgan massiv yarating, so'ng ularni quyida berilgan 4 xil usul yordamida musbat sonlarning butun qismini ajratib oling."
      ]
    },
    {
      "cell_type": "markdown",
      "source": [
        "`💡Ishora` %, np.floor, astype, np.trunc"
      ],
      "metadata": {
        "id": "2b05c544"
      },
      "id": "2b05c544"
    },
    {
      "cell_type": "code",
      "source": [
        "arr = np.random.randn(2, 10)\n",
        "\n",
        "arr1 = arr[arr > 0 ] % 1\n",
        "arr2 = np.floor(arr[arr > 0 ])\n",
        "arr4 = arr[arr > 0 ].astype(int)\n",
        "arr3 = np.trunc(arr[arr > 0 ])\n",
        "\n",
        "print(arr1)\n",
        "print(arr2)\n",
        "print(arr3)\n",
        "print(arr4)"
      ],
      "metadata": {
        "id": "jc6wN5WWMpS3",
        "outputId": "6fb03b1f-75dd-4217-c95b-384b829fda57",
        "colab": {
          "base_uri": "https://localhost:8080/"
        }
      },
      "id": "jc6wN5WWMpS3",
      "execution_count": 47,
      "outputs": [
        {
          "output_type": "stream",
          "name": "stdout",
          "text": [
            "[0.94611756 0.528824   0.20279649 0.65542782 0.60650834 0.2570024\n",
            " 0.23836631 0.45603524]\n",
            "[0. 1. 0. 0. 0. 1. 0. 0.]\n",
            "[0. 1. 0. 0. 0. 1. 0. 0.]\n",
            "[0 1 0 0 0 1 0 0]\n"
          ]
        }
      ]
    },
    {
      "cell_type": "markdown",
      "id": "ec788c9f",
      "metadata": {
        "id": "ec788c9f"
      },
      "source": [
        "#### 20. O'lchovlari 3x3 matritsa yarating, ularning qator qiymatlari 0 dan 2 gacha bo'lsin.\n",
        "\n"
      ]
    },
    {
      "cell_type": "markdown",
      "source": [
        "`💡Ishora` np.arange"
      ],
      "metadata": {
        "id": "c3980b2c"
      },
      "id": "c3980b2c"
    },
    {
      "cell_type": "code",
      "source": [
        "arr = np.arange(0, 9).reshape(3, 3) % 3\n",
        "print(arr)\n",
        "\n"
      ],
      "metadata": {
        "id": "ycz3jw4bM0Xk",
        "outputId": "38a58695-1b5d-4fb9-f4a9-bff48b913259",
        "colab": {
          "base_uri": "https://localhost:8080/"
        }
      },
      "id": "ycz3jw4bM0Xk",
      "execution_count": 59,
      "outputs": [
        {
          "output_type": "stream",
          "name": "stdout",
          "text": [
            "[[0 1 2]\n",
            " [0 1 2]\n",
            " [0 1 2]]\n"
          ]
        }
      ]
    },
    {
      "cell_type": "markdown",
      "id": "391791e0",
      "metadata": {
        "id": "391791e0"
      },
      "source": [
        "#### 21. O'chamlari 10 bo'lgan tasodifiy vektor yarating va uni o'sish tartibida chiqaruvchi dastur tuzing.\n",
        "\n"
      ]
    },
    {
      "cell_type": "markdown",
      "source": [
        "`💡Ishora` sort"
      ],
      "metadata": {
        "id": "ada71c06"
      },
      "id": "ada71c06"
    },
    {
      "cell_type": "code",
      "source": [
        "arr = np.random.randn(10, 10)\n",
        "arr1 = np.sort(arr)\n",
        "print(arr1)"
      ],
      "metadata": {
        "id": "TPMqaavROM7g",
        "outputId": "044acec1-cac1-48e2-febe-56b9ef0e219b",
        "colab": {
          "base_uri": "https://localhost:8080/"
        }
      },
      "id": "TPMqaavROM7g",
      "execution_count": 60,
      "outputs": [
        {
          "output_type": "stream",
          "name": "stdout",
          "text": [
            "[[-1.89399892 -1.13087229 -1.0362796  -0.4086635   0.06785446  0.19955484\n",
            "   0.31237862  0.48367087  0.79293328  0.99713337]\n",
            " [-1.91481644 -0.93941308 -0.87421557 -0.8280375  -0.23207344 -0.17973375\n",
            "   0.08650264  0.57205482  0.93041078  1.19255431]\n",
            " [-0.16825285  0.18802403  0.63140875  0.71062047  0.81116486  0.9501674\n",
            "   0.95515996  1.00988291  1.25623084  1.63471016]\n",
            " [-2.14917702 -1.4313308  -0.46918557 -0.11244052  0.00985711  0.03798792\n",
            "   0.28779723  0.59850715  0.6722147   1.38173897]\n",
            " [-1.66110839 -1.44391754 -1.33805427 -1.00949539 -0.85339733 -0.8043672\n",
            "  -0.09424749  0.06275634  0.47006138  0.74578524]\n",
            " [-1.74234395 -1.70668053 -1.69151529 -1.17564464 -0.71324224 -0.68794748\n",
            "  -0.50376356 -0.09194159  0.05955829  1.94744139]\n",
            " [-1.97118262 -1.11497634 -0.46131947 -0.24994802 -0.13993441  0.02619126\n",
            "   0.10725001  0.24575125  0.38205338  0.69533012]\n",
            " [-2.41396097 -1.89611648 -1.31288707 -0.33954239 -0.30374948 -0.27372355\n",
            "  -0.18524883  0.08535878  0.72125702  1.27211834]\n",
            " [-2.49155644 -0.91710131 -0.91087121 -0.44069955 -0.26500381 -0.25834466\n",
            "   0.07778216  0.6526657   1.80194865  2.52922038]\n",
            " [-2.85953571 -1.27671123 -1.08910381 -0.92966107 -0.71384288 -0.34248978\n",
            "  -0.21330009  0.20677633  0.51081206  0.93625948]]\n"
          ]
        }
      ]
    },
    {
      "cell_type": "markdown",
      "id": "1e74d39e",
      "metadata": {
        "id": "1e74d39e"
      },
      "source": [
        "#### 22. Ikki tasodifiy A va B massiv yarating, ularning tengligini tekshiring"
      ]
    },
    {
      "cell_type": "markdown",
      "source": [
        "`💡Ishora` np.allclose, np.array_equal"
      ],
      "metadata": {
        "id": "eb0e066c"
      },
      "id": "eb0e066c"
    },
    {
      "cell_type": "code",
      "source": [
        "A = np.random.randn(4, 4)\n",
        "B = np.random.randn(4, 4)\n",
        "arr1 = np.allclose(A, B)\n",
        "print(arr1)\n",
        "arr2 = np.array_equal(A, B)\n",
        "print(arr2)"
      ],
      "metadata": {
        "id": "xHNWNZnwOT1r",
        "outputId": "a3d49ece-176d-4cc9-f5ae-d381d85d5f56",
        "colab": {
          "base_uri": "https://localhost:8080/"
        }
      },
      "id": "xHNWNZnwOT1r",
      "execution_count": 61,
      "outputs": [
        {
          "output_type": "stream",
          "name": "stdout",
          "text": [
            "False\n",
            "False\n"
          ]
        }
      ]
    },
    {
      "cell_type": "markdown",
      "id": "78250c14",
      "metadata": {
        "id": "78250c14"
      },
      "source": [
        "#### 23. O'lchamlari 6x3 va 3x4 matritsa tuzing va ularni o'zaro ko'paytiring.\n"
      ]
    },
    {
      "cell_type": "markdown",
      "source": [
        "`💡Ishora` np.dot or np.ones"
      ],
      "metadata": {
        "id": "2e482afe"
      },
      "id": "2e482afe"
    },
    {
      "cell_type": "code",
      "source": [
        "arr1 = np.random.rand(6, 3)\n",
        "arr2 = np.random.rand(3, 4)\n",
        "\n",
        "result = np.dot(arr1, arr2)\n",
        "print(result)"
      ],
      "metadata": {
        "id": "ZRlMgdT9POgS",
        "outputId": "6567b43d-a9d3-432a-e73f-d27534801920",
        "colab": {
          "base_uri": "https://localhost:8080/"
        }
      },
      "id": "ZRlMgdT9POgS",
      "execution_count": 62,
      "outputs": [
        {
          "output_type": "stream",
          "name": "stdout",
          "text": [
            "[[0.4885654  0.44744917 0.40222563 0.25431448]\n",
            " [0.84198325 0.54796297 0.43848277 0.29013076]\n",
            " [0.60417534 0.3961728  0.33653876 0.3049932 ]\n",
            " [1.37351373 0.99547044 0.78241107 0.29050624]\n",
            " [1.641775   1.10046738 0.90766094 0.66970662]\n",
            " [1.36175576 0.83837185 0.67818073 0.55860268]]\n"
          ]
        }
      ]
    },
    {
      "cell_type": "markdown",
      "id": "51898680",
      "metadata": {
        "id": "51898680"
      },
      "source": [
        "#### 24. Tasodifiy sonlardan iborat bo'lgan o'lchami 5 ga teng vektor yarating, so'ng uning eng katta qiymatini 0 ga o'zgartiring.\n"
      ]
    },
    {
      "cell_type": "markdown",
      "source": [
        "`💡Ishora` argmax"
      ],
      "metadata": {
        "id": "ee92ccaf"
      },
      "id": "ee92ccaf"
    },
    {
      "cell_type": "code",
      "source": [
        "arr = np.random.rand(5)\n",
        "max = np.argmax(arr)\n",
        "arr[max] = 0\n",
        "print(arr)"
      ],
      "metadata": {
        "id": "v9DvyaTNPk_t",
        "outputId": "5ed26b13-777a-489e-c63d-a9571d887e30",
        "colab": {
          "base_uri": "https://localhost:8080/"
        }
      },
      "id": "v9DvyaTNPk_t",
      "execution_count": 63,
      "outputs": [
        {
          "output_type": "stream",
          "name": "stdout",
          "text": [
            "[0.         0.24125146 0.21982605 0.33345658 0.17352199]\n"
          ]
        }
      ]
    },
    {
      "cell_type": "markdown",
      "id": "129c342d",
      "metadata": {
        "id": "129c342d"
      },
      "source": [
        "#### 25. NumPy kutubxonasi yordamida kecha, bugun va ertangi kun sanalarini aniqlang.\n"
      ]
    },
    {
      "cell_type": "markdown",
      "source": [
        "`💡Ishora` np.datetime64, np.timedelta64"
      ],
      "metadata": {
        "id": "0fd2f947"
      },
      "id": "0fd2f947"
    },
    {
      "cell_type": "code",
      "source": [
        "nowtime = np.datetime64('today', 'D')\n",
        "yesterday = nowtime - np.timedelta64(1, 'D')\n",
        "tommorow = nowtime + np.timedelta64(1, 'D')\n",
        "\n",
        "print('Today:', nowtime)\n",
        "print('Yesterday:', yesterday)\n",
        "print('Tommorow:', tommorow)"
      ],
      "metadata": {
        "id": "dlljRGxkSitd",
        "outputId": "5cb6ba9f-ca68-4dbe-ad17-79c54521985a",
        "colab": {
          "base_uri": "https://localhost:8080/"
        }
      },
      "id": "dlljRGxkSitd",
      "execution_count": 64,
      "outputs": [
        {
          "output_type": "stream",
          "name": "stdout",
          "text": [
            "Today: 2025-01-10\n",
            "Yesterday: 2025-01-09\n",
            "Tommorow: 2025-01-11\n"
          ]
        }
      ]
    },
    {
      "cell_type": "markdown",
      "id": "42f8b2f9",
      "metadata": {
        "id": "42f8b2f9"
      },
      "source": [
        "#### 26. 2016 yil yanvar oyiga to'g'ri keladigan barcha sanalarni NumPy kutubxonasi yordamida aniqlang.\n"
      ]
    },
    {
      "cell_type": "markdown",
      "source": [
        "`💡Ishora` np.arange(dtype=datetime64['D'])"
      ],
      "metadata": {
        "id": "SU1BWcA8Sw2M"
      },
      "id": "SU1BWcA8Sw2M"
    },
    {
      "cell_type": "code",
      "execution_count": 67,
      "id": "5ad086b0",
      "metadata": {
        "id": "5ad086b0",
        "outputId": "a22bdf16-52c3-41c1-f149-47b513fd75c0",
        "colab": {
          "base_uri": "https://localhost:8080/"
        }
      },
      "outputs": [
        {
          "output_type": "stream",
          "name": "stdout",
          "text": [
            "['2025-01-01' '2025-01-02' '2025-01-03' '2025-01-04' '2025-01-05'\n",
            " '2025-01-06' '2025-01-07' '2025-01-08' '2025-01-09' '2025-01-10'\n",
            " '2025-01-11' '2025-01-12' '2025-01-13' '2025-01-14' '2025-01-15'\n",
            " '2025-01-16' '2025-01-17' '2025-01-18' '2025-01-19' '2025-01-20'\n",
            " '2025-01-21' '2025-01-22' '2025-01-23' '2025-01-24' '2025-01-25'\n",
            " '2025-01-26' '2025-01-27' '2025-01-28' '2025-01-29' '2025-01-30'\n",
            " '2025-01-31']\n"
          ]
        }
      ],
      "source": [
        "january1 = np.datetime64('2025-01-01')\n",
        "januaryend = np.datetime64('2025-01-31')\n",
        "\n",
        "januarydate = np.arange(january1, januaryend + np.timedelta64(1, 'D'), dtype='datetime64[D]')\n",
        "print(januarydate)"
      ]
    },
    {
      "cell_type": "markdown",
      "id": "486df8ea",
      "metadata": {
        "id": "486df8ea"
      },
      "source": [
        "#### 27. 4 xil usul yordamida musbat sonlarning tasodifiy massivining butun son qismini ajratib oling.\n"
      ]
    },
    {
      "cell_type": "markdown",
      "source": [
        "`💡Ishora` %, np.floor, astype, np.trunc`"
      ],
      "metadata": {
        "id": "h4QM3bp9TDhb"
      },
      "id": "h4QM3bp9TDhb"
    },
    {
      "cell_type": "code",
      "execution_count": 65,
      "id": "2680c1ca",
      "metadata": {
        "id": "2680c1ca",
        "outputId": "2249f7cc-d8f3-4bf1-d9a4-0e20ac81839d",
        "colab": {
          "base_uri": "https://localhost:8080/"
        }
      },
      "outputs": [
        {
          "output_type": "stream",
          "name": "stdout",
          "text": [
            "[ 0.  1.  0. -1. -1.  0.  0. -1.  0. -1.]\n",
            "[ 0.  1.  0. -1. -1.  0.  0. -1.  0. -1.]\n",
            "[0 1 0 0 0 0 0 0 0 0]\n",
            "[ 0.  1.  0. -0. -0.  0.  0. -0.  0. -0.]\n"
          ]
        }
      ],
      "source": [
        "arr = np.random.randn(10)\n",
        "\n",
        "arr1 = arr // 1\n",
        "print(arr1)\n",
        "arr2 = np.floor(arr)\n",
        "print(arr2)\n",
        "arr3 = arr.astype(int)\n",
        "print(arr3)\n",
        "arr4 = np.trunc(arr)\n",
        "print(arr4)"
      ]
    },
    {
      "cell_type": "markdown",
      "id": "6415f02e",
      "metadata": {
        "id": "6415f02e"
      },
      "source": [
        "#### 28. Ixtiyoriy kichik massivlar yarating, ular yeg'indisini np.sum funksiyasidanda tezroq hisoblovchi dastur tuzing.\n"
      ]
    },
    {
      "cell_type": "markdown",
      "source": [
        "`💡Ishora` np.add.reduce"
      ],
      "metadata": {
        "id": "129e785f"
      },
      "id": "129e785f"
    },
    {
      "cell_type": "code",
      "source": [
        "arr = np.array([1, 2, 3])\n",
        "arr1 = np.add.reduce(arr)\n",
        "print(arr1)"
      ],
      "metadata": {
        "id": "M0Xv2bB9VYQZ",
        "outputId": "3e29d566-6d1c-46db-aee2-8dfaf018d7cd",
        "colab": {
          "base_uri": "https://localhost:8080/"
        }
      },
      "id": "M0Xv2bB9VYQZ",
      "execution_count": 66,
      "outputs": [
        {
          "output_type": "stream",
          "name": "stdout",
          "text": [
            "6\n"
          ]
        }
      ]
    },
    {
      "cell_type": "markdown",
      "id": "58be9dd4",
      "metadata": {
        "id": "58be9dd4"
      },
      "source": [
        "#### 29. [1, 2, 3, 4, 5] vektor berilgan, har bir qiymat orasiga ketma-ket 3 ta nol raqamini yozuvchi dastur tuzing.\n"
      ]
    },
    {
      "cell_type": "markdown",
      "source": [
        "`💡Ishora` array[::4]"
      ],
      "metadata": {
        "id": "9cf9e134"
      },
      "id": "9cf9e134"
    },
    {
      "cell_type": "code",
      "source": [
        "-------------"
      ],
      "metadata": {
        "id": "04IuJ2jaZeYu"
      },
      "id": "04IuJ2jaZeYu",
      "execution_count": null,
      "outputs": []
    },
    {
      "cell_type": "markdown",
      "id": "781fa236",
      "metadata": {
        "id": "781fa236"
      },
      "source": [
        "#### 30. Quyidagi a massiv berilgan, a = [1,2,3,4,5,6,7,8,9,10,11,12,13,14] undan foydalangan holda siz quyidagi b massivni yarata olasizmi, b = [[1,2,3,4], [2,3,4,5], [3,4,5,6], ..., [11,12,13,14]]?\n"
      ]
    },
    {
      "cell_type": "markdown",
      "source": [
        "`💡Ishora` stride_tricks.as_strided"
      ],
      "metadata": {
        "id": "82e3d17e"
      },
      "id": "82e3d17e"
    },
    {
      "cell_type": "code",
      "source": [
        "-------------------------"
      ],
      "metadata": {
        "id": "S1H6ivCua3NZ"
      },
      "id": "S1H6ivCua3NZ",
      "execution_count": null,
      "outputs": []
    },
    {
      "cell_type": "markdown",
      "id": "7d8dc135",
      "metadata": {
        "id": "7d8dc135"
      },
      "source": [
        "#### 31. Ixtiyoriy sonlardan tashkil topgan massiv yarating, unga o'xshash qiymatlar kiriting. So'ng, o'xshash qiymatlarni topuvchi dastur tuzing.\n"
      ]
    },
    {
      "cell_type": "markdown",
      "source": [
        "`💡Ishora` np.bincount, argmax"
      ],
      "metadata": {
        "id": "81844e99"
      },
      "id": "81844e99"
    },
    {
      "cell_type": "code",
      "source": [
        "arr = np.array([1, 3, 5, 2, 8, 1, 3, 5, 7, 8, 2])\n",
        "arr1 = np.bincount(arr)\n",
        "arr2 = np.argmax(arr1)\n",
        "print(arr1)\n",
        "print(arr2)"
      ],
      "metadata": {
        "id": "SiRaNwxjbaQN",
        "outputId": "187830e8-cdd6-4e85-e085-4973ab9a604b",
        "colab": {
          "base_uri": "https://localhost:8080/"
        }
      },
      "id": "SiRaNwxjbaQN",
      "execution_count": 68,
      "outputs": [
        {
          "output_type": "stream",
          "name": "stdout",
          "text": [
            "[0 2 2 2 0 2 0 1 2]\n",
            "1\n"
          ]
        }
      ]
    },
    {
      "cell_type": "markdown",
      "source": [
        "#### BONUS!\n",
        "\n",
        "`💡O'zingiz javob berishni istagan savolni kiriting va unga javob bering!`"
      ],
      "metadata": {
        "id": "URzxwwODb0m_"
      },
      "id": "URzxwwODb0m_"
    },
    {
      "cell_type": "code",
      "source": [],
      "metadata": {
        "id": "9xpR0GVrbzuk"
      },
      "id": "9xpR0GVrbzuk",
      "execution_count": null,
      "outputs": []
    }
  ],
  "metadata": {
    "hide_input": false,
    "kernelspec": {
      "display_name": "Python 3",
      "language": "python",
      "name": "python3"
    },
    "language_info": {
      "codemirror_mode": {
        "name": "ipython",
        "version": 3
      },
      "file_extension": ".py",
      "mimetype": "text/x-python",
      "name": "python",
      "nbconvert_exporter": "python",
      "pygments_lexer": "ipython3",
      "version": "3.8.8"
    },
    "toc": {
      "base_numbering": 1,
      "nav_menu": {},
      "number_sections": true,
      "sideBar": true,
      "skip_h1_title": false,
      "title_cell": "Table of Contents",
      "title_sidebar": "Contents",
      "toc_cell": false,
      "toc_position": {},
      "toc_section_display": true,
      "toc_window_display": false
    },
    "varInspector": {
      "cols": {
        "lenName": 16,
        "lenType": 16,
        "lenVar": 40
      },
      "kernels_config": {
        "python": {
          "delete_cmd_postfix": "",
          "delete_cmd_prefix": "del ",
          "library": "var_list.py",
          "varRefreshCmd": "print(var_dic_list())"
        },
        "r": {
          "delete_cmd_postfix": ") ",
          "delete_cmd_prefix": "rm(",
          "library": "var_list.r",
          "varRefreshCmd": "cat(var_dic_list()) "
        }
      },
      "types_to_exclude": [
        "module",
        "function",
        "builtin_function_or_method",
        "instance",
        "_Feature"
      ],
      "window_display": false
    },
    "colab": {
      "provenance": [],
      "include_colab_link": true
    }
  },
  "nbformat": 4,
  "nbformat_minor": 5
}